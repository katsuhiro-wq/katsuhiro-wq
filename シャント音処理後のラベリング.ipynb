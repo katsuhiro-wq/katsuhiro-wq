{
  "nbformat": 4,
  "nbformat_minor": 0,
  "metadata": {
    "colab": {
      "provenance": [],
      "authorship_tag": "ABX9TyNqxbMrDVw+343UZEAm2dBk",
      "include_colab_link": true
    },
    "kernelspec": {
      "name": "python3",
      "display_name": "Python 3"
    },
    "language_info": {
      "name": "python"
    }
  },
  "cells": [
    {
      "cell_type": "markdown",
      "metadata": {
        "id": "view-in-github",
        "colab_type": "text"
      },
      "source": [
        "<a href=\"https://colab.research.google.com/github/katsuhiro-wq/katsuhiro-wq/blob/sub1/%E3%82%B7%E3%83%A3%E3%83%B3%E3%83%88%E9%9F%B3%E5%87%A6%E7%90%86%E5%BE%8C%E3%81%AE%E3%83%A9%E3%83%99%E3%83%AA%E3%83%B3%E3%82%B0.ipynb\" target=\"_parent\"><img src=\"https://colab.research.google.com/assets/colab-badge.svg\" alt=\"Open In Colab\"/></a>"
      ]
    },
    {
      "cell_type": "code",
      "execution_count": null,
      "metadata": {
        "id": "pAI2julrO3io"
      },
      "outputs": [],
      "source": []
    },
    {
      "cell_type": "code",
      "source": [
        "import librosa\n",
        "import numpy as np\n",
        "import os\n",
        "import soundfile as sf\n",
        "\n",
        "# === オリジナルのシャント音録音ファイルを読み込む（10秒間録音） ===\n",
        "filename = 'filtered_audio-2.wav'  # オリジナル音声ファイルのパス\n",
        "# librosa.loadで音声ファイルを読み込み、波形データ y_original とサンプリングレート sr を取得\n",
        "y_original, sr = librosa.load(filename, duration=10)  # duration=10 で最初の10秒間のみを読み込む\n",
        "\n",
        "# === シミュレーションで似たようなファイルを50個作成 ===\n",
        "\n",
        "# 出力ディレクトリの設定\n",
        "output_dir = 'simulated_shunt_sounds'  # シミュレーション音声の保存先ディレクトリ\n",
        "if not os.path.exists(output_dir):\n",
        "    os.makedirs(output_dir)  # ディレクトリが存在しない場合は作成\n",
        "\n",
        "# シミュレーションのパラメータ範囲の設定\n",
        "noise_levels = np.linspace(0.001, 0.01, 50)  # ノイズレベルの範囲（50段階）\n",
        "pitch_shift_steps = np.linspace(-2, 2, 50)  # ピッチシフトの範囲（半音単位、50段階）\n",
        "time_stretch_rates = np.linspace(0.9, 1.1, 50)  # タイムストレッチの範囲（50段階）\n",
        "\n",
        "# 乱数シードの設定（結果の再現性のため）\n",
        "np.random.seed(42)\n",
        "\n",
        "for i in range(50):\n",
        "    y_simulated = y_original.copy()  # オリジナル音声をコピー\n",
        "\n",
        "    # === ランダムなノイズを追加 ===\n",
        "    noise_level = np.random.choice(noise_levels)  # ノイズレベルをランダムに選択\n",
        "    noise = noise_level * np.random.randn(len(y_simulated))  # ガウスノイズを生成\n",
        "    y_simulated += noise  # ノイズを音声に追加\n",
        "\n",
        "    # === ランダムなピッチシフトを適用 ===\n",
        "    n_steps = np.random.choice(pitch_shift_steps)  # ピッチシフト量をランダムに選択\n",
        "    y_simulated = librosa.effects.pitch_shift(y_simulated, sr=sr, n_steps=n_steps)\n",
        "\n",
        "    # === ランダムなタイムストレッチを適用 ===\n",
        "    rate = np.random.choice(time_stretch_rates)  # タイムストレッチ率をランダムに選択\n",
        "    y_simulated = librosa.effects.time_stretch(y_simulated, rate=rate)\n",
        "\n",
        "    # === シミュレーション音声をファイルに保存 ===\n",
        "    output_filename = f'simulated_shunt_{i+1:02d}.wav'  # 出力ファイル名を連番で作成\n",
        "    output_path = os.path.join(output_dir, output_filename)\n",
        "    sf.write(output_path, y_simulated, sr)  # 音声ファイルを保存\n",
        "\n",
        "    print(f\"{output_filename} を生成しました。\")  # 進行状況を表示\n",
        "\n",
        "print(\"シミュレーションが完了しました。\")"
      ],
      "metadata": {
        "colab": {
          "base_uri": "https://localhost:8080/"
        },
        "id": "pOlOCOrTO8sQ",
        "outputId": "e6e3945a-afad-4f39-f285-9665f4c30eb2"
      },
      "execution_count": 5,
      "outputs": [
        {
          "output_type": "stream",
          "name": "stdout",
          "text": [
            "simulated_shunt_01.wav を生成しました。\n",
            "simulated_shunt_02.wav を生成しました。\n",
            "simulated_shunt_03.wav を生成しました。\n",
            "simulated_shunt_04.wav を生成しました。\n",
            "simulated_shunt_05.wav を生成しました。\n",
            "simulated_shunt_06.wav を生成しました。\n",
            "simulated_shunt_07.wav を生成しました。\n",
            "simulated_shunt_08.wav を生成しました。\n",
            "simulated_shunt_09.wav を生成しました。\n",
            "simulated_shunt_10.wav を生成しました。\n",
            "simulated_shunt_11.wav を生成しました。\n",
            "simulated_shunt_12.wav を生成しました。\n",
            "simulated_shunt_13.wav を生成しました。\n",
            "simulated_shunt_14.wav を生成しました。\n",
            "simulated_shunt_15.wav を生成しました。\n",
            "simulated_shunt_16.wav を生成しました。\n",
            "simulated_shunt_17.wav を生成しました。\n",
            "simulated_shunt_18.wav を生成しました。\n",
            "simulated_shunt_19.wav を生成しました。\n",
            "simulated_shunt_20.wav を生成しました。\n",
            "simulated_shunt_21.wav を生成しました。\n",
            "simulated_shunt_22.wav を生成しました。\n",
            "simulated_shunt_23.wav を生成しました。\n",
            "simulated_shunt_24.wav を生成しました。\n",
            "simulated_shunt_25.wav を生成しました。\n",
            "simulated_shunt_26.wav を生成しました。\n",
            "simulated_shunt_27.wav を生成しました。\n",
            "simulated_shunt_28.wav を生成しました。\n",
            "simulated_shunt_29.wav を生成しました。\n",
            "simulated_shunt_30.wav を生成しました。\n",
            "simulated_shunt_31.wav を生成しました。\n",
            "simulated_shunt_32.wav を生成しました。\n",
            "simulated_shunt_33.wav を生成しました。\n",
            "simulated_shunt_34.wav を生成しました。\n",
            "simulated_shunt_35.wav を生成しました。\n",
            "simulated_shunt_36.wav を生成しました。\n",
            "simulated_shunt_37.wav を生成しました。\n",
            "simulated_shunt_38.wav を生成しました。\n",
            "simulated_shunt_39.wav を生成しました。\n",
            "simulated_shunt_40.wav を生成しました。\n",
            "simulated_shunt_41.wav を生成しました。\n",
            "simulated_shunt_42.wav を生成しました。\n",
            "simulated_shunt_43.wav を生成しました。\n",
            "simulated_shunt_44.wav を生成しました。\n",
            "simulated_shunt_45.wav を生成しました。\n",
            "simulated_shunt_46.wav を生成しました。\n",
            "simulated_shunt_47.wav を生成しました。\n",
            "simulated_shunt_48.wav を生成しました。\n",
            "simulated_shunt_49.wav を生成しました。\n",
            "simulated_shunt_50.wav を生成しました。\n",
            "シミュレーションが完了しました。\n"
          ]
        }
      ]
    },
    {
      "source": [
        "import pandas as pd\n",
        "import numpy as np\n",
        "\n",
        "# 'df'という名前のDataFrameを作成\n",
        "# サンプルデータ (実際のデータに置き換えてください)\n",
        "data = {'reference_standard': ['正常なFV', '狭窄を疑うFV', '正常なFV', '狭窄を疑うFV'],\n",
        "        'machine_learning_prediction': ['狭窄の疑いなし', '狭窄の疑いあり', '狭窄の疑いなし', '狭窄の疑いあり']}\n",
        "df = pd.DataFrame(data)  # DataFrameを作成\n",
        "\n",
        "# ラベルのマッピングを定義\n",
        "reference_mapping = {'正常なFV': 'negative', '狭窄を疑うFV': 'positive'}  # 基準値のマッピング\n",
        "prediction_mapping = {'狭窄の疑いなし': 'negative', '狭窄の疑いあり': 'positive'}  # 予測値のマッピング\n",
        "\n",
        "# DataFrameにラベルマッピングを適用\n",
        "df['reference_standard'] = df['reference_standard'].map(reference_mapping)  # 基準値列にマッピングを適用\n",
        "df['machine_learning_prediction'] = df['machine_learning_prediction'].map(prediction_mapping)  # 予測値列にマッピングを適用\n",
        "\n",
        "# 混同行列を作成\n",
        "confusion_matrix = pd.crosstab(df['reference_standard'], df['machine_learning_prediction'],\n",
        "                               rownames=['基準値'], colnames=['機械学習予測'])\n",
        "\n",
        "# 指標を計算\n",
        "total = confusion_matrix.sum().sum()  # 全体のデータ数\n",
        "true_negative = confusion_matrix.loc['negative', 'negative']  # 真陰性\n",
        "false_positive = confusion_matrix.loc['negative', 'positive']  # 偽陽性\n",
        "false_negative = confusion_matrix.loc['positive', 'negative']  # 偽陰性\n",
        "true_positive = confusion_matrix.loc['positive', 'positive']  # 真陽性\n",
        "\n",
        "accuracy = (true_negative + true_positive) / total  # 精度\n",
        "sensitivity = true_positive / (true_positive + false_negative)  # 感度\n",
        "specificity = true_negative / (true_negative + false_positive)  # 特異度\n",
        "\n",
        "# 結果を出力\n",
        "print(\"混同行列:\")\n",
        "print(confusion_matrix)\n",
        "print(\"\\n精度:\", accuracy)\n",
        "print(\"感度:\", sensitivity)\n",
        "print(\"特異度:\", specificity)"
      ],
      "cell_type": "code",
      "metadata": {
        "colab": {
          "base_uri": "https://localhost:8080/"
        },
        "id": "oNzU_fbWBRsH",
        "outputId": "f518e65b-a701-42f4-adf5-ce18a0274ae2"
      },
      "execution_count": 6,
      "outputs": [
        {
          "output_type": "stream",
          "name": "stdout",
          "text": [
            "混同行列:\n",
            "機械学習予測    negative  positive\n",
            "基準値                         \n",
            "negative         2         0\n",
            "positive         0         2\n",
            "\n",
            "精度: 1.0\n",
            "感度: 1.0\n",
            "特異度: 1.0\n"
          ]
        }
      ]
    }
  ]
}